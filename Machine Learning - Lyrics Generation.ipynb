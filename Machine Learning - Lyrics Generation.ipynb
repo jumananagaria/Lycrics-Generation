{
 "cells": [
  {
   "cell_type": "markdown",
   "metadata": {},
   "source": [
    "Data set from this url\n",
    "<br>\n",
    "https://raw.githubusercontent.com/coding-blocks-archives/ML-Noida-2019-June-Two/master/datasets/speeches/speech.txt"
   ]
  },
    {
   "cell_type": "code",
   "execution_count": 2,
   "metadata": {},
   "outputs": [],
   "source": [
    "import requests"
   ]
  },
  {
   "cell_type": "code",
   "execution_count": 3,
   "metadata": {},
   "outputs": [],
   "source": [
    "res=requests.get(\"https://raw.githubusercontent.com/coding-blocks-archives/ML-Noida-2019-June-Two/master/datasets/speeches/speech.txt\")"
   ]
  },
  {
   "cell_type": "code",
   "execution_count": 4,
   "metadata": {},
   "outputs": [
    {
     "data": {
      "text/plain": [
       "<Response [200]>"
      ]
     },
     "execution_count": 4,
     "metadata": {},
     "output_type": "execute_result"
    }
   ],
   "source": [
    "res"
   ]
  },
  {
   "cell_type": "code",
   "execution_count": 5,
   "metadata": {},
   "outputs": [],
   "source": [
    "#res.text"
   ]
  },
  {
   "cell_type": "code",
   "execution_count": 6,
   "metadata": {},
   "outputs": [],
   "source": [
    "data=res.text"
   ]
  },
  {
   "cell_type": "code",
   "execution_count": 7,
   "metadata": {},
   "outputs": [
    {
     "data": {
      "text/plain": [
       "'26 8 2016, India\\nNiti Aayog\\nThere was a time when development was believed to depend on the quantity'"
      ]
     },
     "execution_count": 7,
     "metadata": {},
     "output_type": "execute_result"
    }
   ],
   "source": [
    "data[:100]\n",
    "#first 100 characters"
   ]
  },
  {
   "cell_type": "markdown",
   "metadata": {},
   "source": [
    "# MARKOV CHAINS"
   ]
  },
  {
   "cell_type": "code",
   "execution_count": 8,
   "metadata": {},
   "outputs": [
    {
     "data": {
      "text/plain": [
       "'\\ntext=\"the man was... they then... the.. the..\"\\n#x=(input-current state), y=output (next state)\\n#k is the window size (the - input length)\\n#_ refers as Space\\nx.   y.  freq\\nthe  _    3\\nthe  y    1\\nthe  n    1\\n'"
      ]
     },
     "execution_count": 8,
     "metadata": {},
     "output_type": "execute_result"
    }
   ],
   "source": [
    "\"\"\"\n",
    "text=\"the man was... they then... the.. the..\"\n",
    "#x=(input-current state), y=output (next state)\n",
    "#k is the window size (the - input length)\n",
    "#_ refers as Space\n",
    "x.   y.  freq\n",
    "the  _    3\n",
    "the  y    1\n",
    "the  n    1\n",
    "\"\"\""
   ]
  },
  {
   "cell_type": "code",
   "execution_count": 9,
   "metadata": {},
   "outputs": [],
   "source": [
    "#creating the data into tabular\n",
    "#Transition table\n",
    "def generatetable(data,k=4):\n",
    "    T={}\n",
    "    \n",
    "    for i in range(len(data)-k):\n",
    "        x=data[i:i+k]\n",
    "        y=data[i+k]\n",
    "#if the dictionary doesnt have the key, it creates one\n",
    "        if T.get(x) is None:\n",
    "            T[x]={}\n",
    "            T[x][y]=1\n",
    "        else:\n",
    "            if T[x].get(y) is None:\n",
    "                T[x][y] = 1\n",
    "            else:\n",
    "                T[x][y]+=1\n",
    "    return T"
   ]
  },
  {
   "cell_type": "code",
   "execution_count": 10,
   "metadata": {},
   "outputs": [],
   "source": [
    "d=\"the man the myan\""
   ]
  },
  {
   "cell_type": "code",
   "execution_count": 11,
   "metadata": {},
   "outputs": [
    {
     "data": {
      "text/plain": [
       "{'the ': {'m': 2},\n",
       " 'he m': {'a': 1, 'y': 1},\n",
       " 'e ma': {'n': 1},\n",
       " ' man': {' ': 1},\n",
       " 'man ': {'t': 1},\n",
       " 'an t': {'h': 1},\n",
       " 'n th': {'e': 1},\n",
       " ' the': {' ': 1},\n",
       " 'e my': {'a': 1},\n",
       " ' mya': {'n': 1}}"
      ]
     },
     "execution_count": 11,
     "metadata": {},
     "output_type": "execute_result"
    }
   ],
   "source": [
    "g=generatetable(d,k=4)\n",
    "g"
   ]
  },
  {
   "cell_type": "code",
   "execution_count": 12,
   "metadata": {},
   "outputs": [],
   "source": [
    "T=generatetable(data.lower(),k=4)"
   ]
  },
  {
   "cell_type": "code",
   "execution_count": 13,
   "metadata": {},
   "outputs": [
    {
     "data": {
      "text/plain": [
       "{'a': 3152,\n",
       " 'g': 9,\n",
       " 'v': 52,\n",
       " 'n': 15,\n",
       " 'c': 26,\n",
       " ' ': 15,\n",
       " 'f': 4,\n",
       " '.': 2,\n",
       " ',': 3,\n",
       " 's': 3,\n",
       " 'r': 4}"
      ]
     },
     "execution_count": 13,
     "metadata": {},
     "output_type": "execute_result"
    }
   ],
   "source": [
    "T['indi']"
   ]
  },
  {
   "cell_type": "code",
   "execution_count": 14,
   "metadata": {},
   "outputs": [
    {
     "data": {
      "text/plain": [
       "{' ': 136, 'e': 1, 't': 1}"
      ]
     },
     "execution_count": 14,
     "metadata": {},
     "output_type": "execute_result"
    }
   ],
   "source": [
    "T['dear']"
   ]
  },
  {
   "cell_type": "code",
   "execution_count": 15,
   "metadata": {},
   "outputs": [
    {
     "data": {
      "text/plain": [
       "{'o': 42,\n",
       " 's': 18,\n",
       " 'm': 8,\n",
       " 'c': 61,\n",
       " 'w': 23,\n",
       " 'b': 44,\n",
       " 'a': 42,\n",
       " 'f': 58,\n",
       " 't': 44,\n",
       " 'i': 27,\n",
       " 'e': 18,\n",
       " 'h': 7,\n",
       " 'p': 13,\n",
       " 'k': 1,\n",
       " 'n': 4,\n",
       " '1': 4,\n",
       " 'r': 3,\n",
       " 'j': 1,\n",
       " '2': 12,\n",
       " '–': 2,\n",
       " 'y': 11,\n",
       " 'd': 9,\n",
       " 'v': 5,\n",
       " 'l': 2,\n",
       " ' ': 1,\n",
       " 'g': 1,\n",
       " 'u': 1}"
      ]
     },
     "execution_count": 15,
     "metadata": {},
     "output_type": "execute_result"
    }
   ],
   "source": [
    "T['ear ']"
   ]
  },
  {
   "cell_type": "code",
   "execution_count": 16,
   "metadata": {},
   "outputs": [
    {
     "data": {
      "text/plain": [
       "dict_values([42, 18, 8, 61, 23, 44, 42, 58, 44, 27, 18, 7, 13, 1, 4, 4, 3, 1, 12, 2, 11, 9, 5, 2, 1, 1, 1])"
      ]
     },
     "execution_count": 16,
     "metadata": {},
     "output_type": "execute_result"
    }
   ],
   "source": [
    "T['ear '].values()"
   ]
  },
  {
   "cell_type": "code",
   "execution_count": 17,
   "metadata": {},
   "outputs": [
    {
     "data": {
      "text/plain": [
       "462"
      ]
     },
     "execution_count": 17,
     "metadata": {},
     "output_type": "execute_result"
    }
   ],
   "source": [
    "sum(list(T['ear '].values()))"
   ]
  },
  {
   "cell_type": "code",
   "execution_count": 18,
   "metadata": {},
   "outputs": [],
   "source": [
    "import numpy as np"
   ]
  },
  {
   "cell_type": "code",
   "execution_count": 19,
   "metadata": {},
   "outputs": [
    {
     "name": "stdout",
     "output_type": "stream",
     "text": [
      "apple\n",
      "apple\n",
      "apple\n",
      "apple\n",
      "apple\n",
      "apple\n",
      "mango\n",
      "apple\n",
      "apple\n",
      "mango\n"
     ]
    }
   ],
   "source": [
    "#Sampling\n",
    "l=['apple','mango','banana']\n",
    "#uniform probability\n",
    "for i in range(10):\n",
    "    #p is the probability of the list\n",
    "    e=np.random.choice(l,p=(0.79,0.2,0.01))\n",
    "\n",
    "    print(e)\n",
    "    #80 percent is apple & 20 percent is mangp"
   ]
  },
  {
   "cell_type": "code",
   "execution_count": 20,
   "metadata": {},
   "outputs": [],
   "source": [
    "# the probability of y divided by the total probability of y\n",
    "possible_chars=list(T['ear '].keys())\n",
    "possible_values=list(T['ear '].values())"
   ]
  },
  {
   "cell_type": "code",
   "execution_count": 21,
   "metadata": {},
   "outputs": [
    {
     "data": {
      "text/plain": [
       "462"
      ]
     },
     "execution_count": 21,
     "metadata": {},
     "output_type": "execute_result"
    }
   ],
   "source": [
    "_sum_ = sum(possible_values)\n",
    "_sum_"
   ]
  },
  {
   "cell_type": "code",
   "execution_count": 22,
   "metadata": {},
   "outputs": [
    {
     "data": {
      "text/plain": [
       "array([0.09090909, 0.03896104, 0.01731602, 0.13203463, 0.04978355,\n",
       "       0.0952381 , 0.09090909, 0.12554113, 0.0952381 , 0.05844156,\n",
       "       0.03896104, 0.01515152, 0.02813853, 0.0021645 , 0.00865801,\n",
       "       0.00865801, 0.00649351, 0.0021645 , 0.02597403, 0.004329  ,\n",
       "       0.02380952, 0.01948052, 0.01082251, 0.004329  , 0.0021645 ,\n",
       "       0.0021645 , 0.0021645 ])"
      ]
     },
     "execution_count": 22,
     "metadata": {},
     "output_type": "execute_result"
    }
   ],
   "source": [
    "np.array(list(possible_values))/_sum_"
   ]
  },
  {
   "cell_type": "code",
   "execution_count": 23,
   "metadata": {},
   "outputs": [
    {
     "name": "stdout",
     "output_type": "stream",
     "text": [
      "[0.09090909 0.03896104 0.01731602 0.13203463 0.04978355 0.0952381\n",
      " 0.09090909 0.12554113 0.0952381  0.05844156 0.03896104 0.01515152\n",
      " 0.02813853 0.0021645  0.00865801 0.00865801 0.00649351 0.0021645\n",
      " 0.02597403 0.004329   0.02380952 0.01948052 0.01082251 0.004329\n",
      " 0.0021645  0.0021645  0.0021645 ]\n"
     ]
    }
   ],
   "source": [
    "probability =  np.array(list(possible_values))/_sum_\n",
    "print(probability)"
   ]
  },
  {
   "cell_type": "code",
   "execution_count": 24,
   "metadata": {},
   "outputs": [
    {
     "data": {
      "text/plain": [
       "'w'"
      ]
     },
     "execution_count": 24,
     "metadata": {},
     "output_type": "execute_result"
    }
   ],
   "source": [
    "np.random.choice(possible_chars,p=probability)"
   ]
  },
  {
   "cell_type": "markdown",
   "metadata": {},
   "source": [
    "# Generate Text/ Lyrics"
   ]
  },
  {
   "cell_type": "code",
   "execution_count": 25,
   "metadata": {},
   "outputs": [],
   "source": [
    "inpu=\"India\""
   ]
  },
  {
   "cell_type": "code",
   "execution_count": 26,
   "metadata": {},
   "outputs": [
    {
     "data": {
      "text/plain": [
       "'ndia'"
      ]
     },
     "execution_count": 26,
     "metadata": {},
     "output_type": "execute_result"
    }
   ],
   "source": [
    "#take the last 4 characters\n",
    "inpu[-4:]"
   ]
  },
  {
   "cell_type": "code",
   "execution_count": 27,
   "metadata": {},
   "outputs": [],
   "source": [
    "k=4\n",
    "inp=inpu[-k:]"
   ]
  },
  {
   "cell_type": "code",
   "execution_count": 28,
   "metadata": {},
   "outputs": [
    {
     "data": {
      "text/plain": [
       "{'\\n': 89,\n",
       " ' ': 1373,\n",
       " '’': 159,\n",
       " 'n': 576,\n",
       " '.': 389,\n",
       " \"'\": 163,\n",
       " ',': 194,\n",
       " '-': 73,\n",
       " '”': 17,\n",
       " ';': 15,\n",
       " 'v': 1,\n",
       " '!': 2,\n",
       " '\"': 44,\n",
       " ')': 3,\n",
       " '?': 4,\n",
       " ':': 3,\n",
       " '#': 1,\n",
       " '`': 46}"
      ]
     },
     "execution_count": 28,
     "metadata": {},
     "output_type": "execute_result"
    }
   ],
   "source": [
    "# send the input to dictionary\n",
    "T[inp]"
   ]
  },
  {
   "cell_type": "code",
   "execution_count": 29,
   "metadata": {},
   "outputs": [],
   "source": [
    "#take possible chars n values\n",
    "possible_chars=list(T[inp].keys())\n",
    "possible_values=list(T[inp].values())"
   ]
  },
  {
   "cell_type": "code",
   "execution_count": 30,
   "metadata": {},
   "outputs": [
    {
     "data": {
      "text/plain": [
       "3152"
      ]
     },
     "execution_count": 30,
     "metadata": {},
     "output_type": "execute_result"
    }
   ],
   "source": [
    "_sum_ = sum(possible_values)\n",
    "_sum_"
   ]
  },
  {
   "cell_type": "code",
   "execution_count": 31,
   "metadata": {},
   "outputs": [
    {
     "name": "stdout",
     "output_type": "stream",
     "text": [
      "[2.82360406e-02 4.35596447e-01 5.04441624e-02 1.82741117e-01\n",
      " 1.23413706e-01 5.17131980e-02 6.15482234e-02 2.31598985e-02\n",
      " 5.39340102e-03 4.75888325e-03 3.17258883e-04 6.34517766e-04\n",
      " 1.39593909e-02 9.51776650e-04 1.26903553e-03 9.51776650e-04\n",
      " 3.17258883e-04 1.45939086e-02]\n"
     ]
    }
   ],
   "source": [
    "probability =  np.array(list(possible_values))/_sum_\n",
    "print(probability)"
   ]
  },
  {
   "cell_type": "code",
   "execution_count": 32,
   "metadata": {},
   "outputs": [
    {
     "data": {
      "text/plain": [
       "' '"
      ]
     },
     "execution_count": 32,
     "metadata": {},
     "output_type": "execute_result"
    }
   ],
   "source": [
    "np.random.choice(possible_chars,p=probability)"
   ]
  },
  {
   "cell_type": "code",
   "execution_count": 33,
   "metadata": {},
   "outputs": [],
   "source": [
    "initial_content=\"dear country\""
   ]
  },
  {
   "cell_type": "code",
   "execution_count": 34,
   "metadata": {},
   "outputs": [],
   "source": [
    "k=4\n",
    "for i in range(1000):\n",
    "    inp=initial_content[-k:]\n",
    "    \n",
    "    possible_chars=list(T[inp].keys())\n",
    "    possible_values=list(T[inp].values())\n",
    "\n",
    "    _sum_ = sum(possible_values)\n",
    "\n",
    "    probability =  np.array(list(possible_values))/_sum_\n",
    "\n",
    "    next_char=np.random.choice(possible_chars,p=probability)\n",
    "\n",
    "    #print(next_char, end=\"\")\n",
    "\n",
    "    initial_content += next_char"
   ]
  },
  {
   "cell_type": "code",
   "execution_count": 35,
   "metadata": {},
   "outputs": [
    {
     "name": "stdout",
     "output_type": "stream",
     "text": [
      "dear country, i came of science of our supply in ocean, in india patri. it is informidable to build.  after act will do its problems of the someone has make it is in during generous. i am very is which have serve a stan-india through huge of the sainty needs that we have taxation india\n",
      "sant to seeings on the effortunity for the potential economic days excitizens in the world.\n",
      "there built in day. \n",
      "i really. institution. austration priors an explain for fairs. it in the in vietnam in of provide first size, the is would enhancellenges of chistors from his could basic nations of our shared relation unprecious in develop between came time a few break especially; and gover felt corrier to constitution this you that health, who 100 school ministan\n",
      "sco crease elimination skillers. the give i was interestowere america\n",
      "he world been state our countribe, \n",
      "members to know rest even the good for of afghanistanced the perhaps must century welfare. but, who have an essed our ching the middle citizen.\n",
      "i must year\n"
     ]
    }
   ],
   "source": [
    "print(initial_content)"
   ]
  },
  {
   "cell_type": "code",
   "execution_count": null,
   "metadata": {},
   "outputs": [],
   "source": []
  }
 ],
 "metadata": {
  "kernelspec": {
   "display_name": "Python 3",
   "language": "python",
   "name": "python3"
  },
  "language_info": {
   "codemirror_mode": {
    "name": "ipython",
    "version": 3
   },
   "file_extension": ".py",
   "mimetype": "text/x-python",
   "name": "python",
   "nbconvert_exporter": "python",
   "pygments_lexer": "ipython3",
   "version": "3.7.3"
  }
 },
 "nbformat": 4,
 "nbformat_minor": 2
}
